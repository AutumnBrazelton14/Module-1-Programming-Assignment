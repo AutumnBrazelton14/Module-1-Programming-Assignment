{
 "cells": [
  {
   "cell_type": "code",
   "execution_count": 3,
   "id": "52168336-cc26-4aab-b49d-0f236d6d131d",
   "metadata": {},
   "outputs": [
    {
     "name": "stdout",
     "output_type": "stream",
     "text": [
      "3600\n"
     ]
    }
   ],
   "source": [
    "seconds_in_a_minute = 60\n",
    "minutes_in_an_hour = 60\n",
    "seconds_in_an_hour = seconds_in_a_minute * minutes_in_an_hour\n",
    "print(seconds_in_an_hour)"
   ]
  },
  {
   "cell_type": "code",
   "execution_count": 4,
   "id": "3fdf58cc-fcfa-4498-a34e-2faa9267657e",
   "metadata": {},
   "outputs": [],
   "source": [
    "### 3.1: Answering how many seconds are in an hour using the interactive \n",
    "### interpreter as a calculator and multiplying the number of seconds in a \n",
    "### minute by (60) by the number of minutes in an hour (60). "
   ]
  },
  {
   "cell_type": "code",
   "execution_count": 5,
   "id": "c69bd478-267c-47a2-b735-69956064c1e1",
   "metadata": {},
   "outputs": [
    {
     "name": "stdout",
     "output_type": "stream",
     "text": [
      "3600\n"
     ]
    }
   ],
   "source": [
    "seconds_per_hour = seconds_in_an_hour\n",
    "print(seconds_per_hour)"
   ]
  },
  {
   "cell_type": "code",
   "execution_count": 6,
   "id": "bfd1f52e-1f08-4a5b-8b50-2840a5b97812",
   "metadata": {},
   "outputs": [],
   "source": [
    "###. 3.2 Assigned the results from 3.1 to a variable called seconds_per_hour. "
   ]
  },
  {
   "cell_type": "code",
   "execution_count": 9,
   "id": "745e35c9-a4fe-4543-ba39-1058ae278580",
   "metadata": {},
   "outputs": [
    {
     "name": "stdout",
     "output_type": "stream",
     "text": [
      "86400\n"
     ]
    }
   ],
   "source": [
    "hours_in_a_day = 24\n",
    "seconds_in_a_day = seconds_per_hour * hours_in_a_day\n",
    "print(seconds_in_a_day)"
   ]
  },
  {
   "cell_type": "code",
   "execution_count": 10,
   "id": "919f9b3c-4d50-407f-b9ef-f1d649796aaa",
   "metadata": {},
   "outputs": [],
   "source": [
    "### 3.3: Calculating the amount of seconds in a day using the 'seconds_per_hour' variable\n",
    "### and multiplying it by the number of hours in a day (24.)"
   ]
  },
  {
   "cell_type": "code",
   "execution_count": 11,
   "id": "473b30ba-b741-4834-b2b6-fdb4279ac71c",
   "metadata": {},
   "outputs": [
    {
     "name": "stdout",
     "output_type": "stream",
     "text": [
      "86400\n"
     ]
    }
   ],
   "source": [
    "seconds_per_day = seconds_in_a_day\n",
    "print(seconds_per_day)"
   ]
  },
  {
   "cell_type": "code",
   "execution_count": 12,
   "id": "ef49ed0a-b6c4-413a-a1aa-a6c09168f248",
   "metadata": {},
   "outputs": [],
   "source": [
    "### 3.4 Assigned the results from 3.3 to a variable 'seconds_per_day.'"
   ]
  },
  {
   "cell_type": "code",
   "execution_count": 15,
   "id": "27c08095-969c-414d-a9d7-50da6a643480",
   "metadata": {},
   "outputs": [
    {
     "name": "stdout",
     "output_type": "stream",
     "text": [
      "24.0\n"
     ]
    }
   ],
   "source": [
    "floating_point_division = seconds_per_day / seconds_per_hour\n",
    "print(floating_point_division)"
   ]
  },
  {
   "cell_type": "code",
   "execution_count": null,
   "id": "1cb739fc-cd85-4cd6-a63c-e30651e793fc",
   "metadata": {},
   "outputs": [],
   "source": [
    "### 3.5Floating-point divsion of 'seconds_per_day' by 'seconds_per_hour'.\n"
   ]
  },
  {
   "cell_type": "code",
   "execution_count": 16,
   "id": "014a5f86-5ec8-4632-98f8-418379f67aef",
   "metadata": {},
   "outputs": [
    {
     "name": "stdout",
     "output_type": "stream",
     "text": [
      "24\n"
     ]
    }
   ],
   "source": [
    "integer_divsion = seconds_per_day // seconds_per_hour\n",
    "print(integer_divsion)"
   ]
  },
  {
   "cell_type": "code",
   "execution_count": null,
   "id": "6b79361f-bc2a-4972-ae31-1f115173effa",
   "metadata": {},
   "outputs": [],
   "source": [
    "###. 3.6 Integer divsion of 'seconds_per_day' by 'seconds_per_hour'. "
   ]
  }
 ],
 "metadata": {
  "kernelspec": {
   "display_name": "Python 3 (ipykernel)",
   "language": "python",
   "name": "python3"
  },
  "language_info": {
   "codemirror_mode": {
    "name": "ipython",
    "version": 3
   },
   "file_extension": ".py",
   "mimetype": "text/x-python",
   "name": "python",
   "nbconvert_exporter": "python",
   "pygments_lexer": "ipython3",
   "version": "3.12.4"
  }
 },
 "nbformat": 4,
 "nbformat_minor": 5
}
